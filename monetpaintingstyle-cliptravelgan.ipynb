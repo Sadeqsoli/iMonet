{
 "cells": [
  {
   "cell_type": "code",
   "execution_count": 1,
   "id": "357e3115",
   "metadata": {
    "_cell_guid": "b1076dfc-b9ad-4769-8c92-a6c4dae69d19",
    "_uuid": "8f2839f25d086af736a60e9eeb907d3b93b6e0e5",
    "execution": {
     "iopub.execute_input": "2024-07-17T07:18:30.711412Z",
     "iopub.status.busy": "2024-07-17T07:18:30.710979Z",
     "iopub.status.idle": "2024-07-17T07:18:47.552558Z",
     "shell.execute_reply": "2024-07-17T07:18:47.551176Z"
    },
    "papermill": {
     "duration": 16.849905,
     "end_time": "2024-07-17T07:18:47.555105",
     "exception": false,
     "start_time": "2024-07-17T07:18:30.705200",
     "status": "completed"
    },
    "tags": []
   },
   "outputs": [
    {
     "name": "stderr",
     "output_type": "stream",
     "text": [
      "2024-07-17 07:18:34.539084: E external/local_xla/xla/stream_executor/cuda/cuda_dnn.cc:9261] Unable to register cuDNN factory: Attempting to register factory for plugin cuDNN when one has already been registered\n",
      "2024-07-17 07:18:34.539227: E external/local_xla/xla/stream_executor/cuda/cuda_fft.cc:607] Unable to register cuFFT factory: Attempting to register factory for plugin cuFFT when one has already been registered\n",
      "2024-07-17 07:18:34.762778: E external/local_xla/xla/stream_executor/cuda/cuda_blas.cc:1515] Unable to register cuBLAS factory: Attempting to register factory for plugin cuBLAS when one has already been registered\n"
     ]
    },
    {
     "name": "stdout",
     "output_type": "stream",
     "text": [
      "Number of replicas: 1\n",
      "2.15.0\n"
     ]
    }
   ],
   "source": [
    "# This Python 3 environment comes with many helpful analytics libraries installed\n",
    "# It is defined by the kaggle/python Docker image: https://github.com/kaggle/docker-python\n",
    "# For example, here's several helpful packages to load\n",
    "\n",
    "import numpy as np # linear algebra\n",
    "import pandas as pd # data processing, CSV file I/O (e.g. pd.read_csv)\n",
    "\n",
    "# Input data files are available in the read-only \"../input/\" directory\n",
    "# For example, running this (by clicking run or pressing Shift+Enter) will list all files under the input directory\n",
    "\n",
    "import os\n",
    "# for dirname, _, filenames in os.walk('/kaggle/input'):\n",
    "#     for filename in filenames:\n",
    "#         print(os.path.join(dirname, filename))\n",
    "import tensorflow as tf\n",
    "from tensorflow import keras\n",
    "from tensorflow.keras import layers\n",
    "# import tensorflow_addons as tfa\n",
    "\n",
    "from kaggle_datasets import KaggleDatasets\n",
    "import matplotlib.pyplot as plt\n",
    "\n",
    "try:\n",
    "    tpu = tf.distribute.cluster_resolver.TPUClusterResolver()\n",
    "    print('Device:', tpu.master())\n",
    "    tf.config.experimental_connect_to_cluster(tpu)\n",
    "    tf.tpu.experimental.initialize_tpu_system(tpu)\n",
    "    strategy = tf.distribute.experimental.TPUStrategy(tpu)\n",
    "except:\n",
    "    strategy = tf.distribute.get_strategy()\n",
    "print('Number of replicas:', strategy.num_replicas_in_sync)\n",
    "\n",
    "AUTOTUNE = tf.data.experimental.AUTOTUNE\n",
    "    \n",
    "print(tf.__version__)\n",
    "# You can write up to 20GB to the current directory (/kaggle/working/) that gets preserved as output when you create a version using \"Save & Run All\" \n",
    "# You can also write temporary files to /kaggle/temp/, but they won't be saved outside of the current session"
   ]
  },
  {
   "cell_type": "markdown",
   "id": "01d91c00",
   "metadata": {
    "papermill": {
     "duration": 0.003444,
     "end_time": "2024-07-17T07:18:47.562409",
     "exception": false,
     "start_time": "2024-07-17T07:18:47.558965",
     "status": "completed"
    },
    "tags": []
   },
   "source": [
    "## Loding Data\n",
    "#- We have to seperate pictures form monet files"
   ]
  },
  {
   "cell_type": "code",
   "execution_count": 2,
   "id": "220687f0",
   "metadata": {
    "execution": {
     "iopub.execute_input": "2024-07-17T07:18:47.571890Z",
     "iopub.status.busy": "2024-07-17T07:18:47.571134Z",
     "iopub.status.idle": "2024-07-17T07:18:48.004327Z",
     "shell.execute_reply": "2024-07-17T07:18:48.003257Z"
    },
    "papermill": {
     "duration": 0.440782,
     "end_time": "2024-07-17T07:18:48.006840",
     "exception": false,
     "start_time": "2024-07-17T07:18:47.566058",
     "status": "completed"
    },
    "tags": []
   },
   "outputs": [
    {
     "data": {
      "text/plain": [
       "'gs://kds-0f5aa838c1ab34769c8b71d50a5cdd82a554423b0be9e585b621c4ff'"
      ]
     },
     "execution_count": 2,
     "metadata": {},
     "output_type": "execute_result"
    }
   ],
   "source": [
    "GCS_PATH = KaggleDatasets().get_gcs_path()\n",
    "GCS_PATH"
   ]
  },
  {
   "cell_type": "code",
   "execution_count": 3,
   "id": "7c928afe",
   "metadata": {
    "execution": {
     "iopub.execute_input": "2024-07-17T07:18:48.015899Z",
     "iopub.status.busy": "2024-07-17T07:18:48.015535Z",
     "iopub.status.idle": "2024-07-17T07:18:49.634319Z",
     "shell.execute_reply": "2024-07-17T07:18:49.633027Z"
    },
    "papermill": {
     "duration": 1.626663,
     "end_time": "2024-07-17T07:18:49.637319",
     "exception": false,
     "start_time": "2024-07-17T07:18:48.010656",
     "status": "completed"
    },
    "tags": []
   },
   "outputs": [
    {
     "name": "stdout",
     "output_type": "stream",
     "text": [
      "Monet TFRecord Files: 5\n",
      "Photo TFRecord Files: 20\n"
     ]
    }
   ],
   "source": [
    "MONET_FILENAMES = tf.io.gfile.glob(str(GCS_PATH + '/monet_tfrec/*.tfrec'))\n",
    "print('Monet TFRecord Files:', len(MONET_FILENAMES))\n",
    "\n",
    "PHOTO_FILENAMES = tf.io.gfile.glob(str(GCS_PATH + '/photo_tfrec/*.tfrec'))\n",
    "print('Photo TFRecord Files:', len(PHOTO_FILENAMES))"
   ]
  },
  {
   "cell_type": "code",
   "execution_count": 4,
   "id": "9569a5f1",
   "metadata": {
    "execution": {
     "iopub.execute_input": "2024-07-17T07:18:49.648107Z",
     "iopub.status.busy": "2024-07-17T07:18:49.647183Z",
     "iopub.status.idle": "2024-07-17T07:18:49.657053Z",
     "shell.execute_reply": "2024-07-17T07:18:49.655649Z"
    },
    "papermill": {
     "duration": 0.018761,
     "end_time": "2024-07-17T07:18:49.660251",
     "exception": false,
     "start_time": "2024-07-17T07:18:49.641490",
     "status": "completed"
    },
    "tags": []
   },
   "outputs": [],
   "source": [
    "IMAGE_SIZE = [256, 256]\n",
    "\n",
    "def decode_image(image):\n",
    "    image = tf.image.decode_jpeg(image, channels=3)\n",
    "    image = (tf.cast(image, tf.float32) / 127.5) - 1\n",
    "    image = tf.reshape(image, [*IMAGE_SIZE, 3])\n",
    "    return image\n",
    "\n",
    "def read_tfrecord(example):\n",
    "    tfrecord_format = {\n",
    "        \"image_name\": tf.io.FixedLenFeature([], tf.string),\n",
    "        \"image\": tf.io.FixedLenFeature([], tf.string),\n",
    "        \"target\": tf.io.FixedLenFeature([], tf.string)\n",
    "    }\n",
    "    example = tf.io.parse_single_example(example, tfrecord_format)\n",
    "    image = decode_image(example['image'])\n",
    "    return image"
   ]
  },
  {
   "cell_type": "code",
   "execution_count": 5,
   "id": "93056dab",
   "metadata": {
    "execution": {
     "iopub.execute_input": "2024-07-17T07:18:49.673222Z",
     "iopub.status.busy": "2024-07-17T07:18:49.672013Z",
     "iopub.status.idle": "2024-07-17T07:18:49.678605Z",
     "shell.execute_reply": "2024-07-17T07:18:49.677464Z"
    },
    "papermill": {
     "duration": 0.015736,
     "end_time": "2024-07-17T07:18:49.681790",
     "exception": false,
     "start_time": "2024-07-17T07:18:49.666054",
     "status": "completed"
    },
    "tags": []
   },
   "outputs": [],
   "source": [
    "def load_dataset(filenames, labeled=True, ordered=False):\n",
    "    dataset = tf.data.TFRecordDataset(filenames)\n",
    "    dataset = dataset.map(read_tfrecord, num_parallel_calls=AUTOTUNE)\n",
    "    return dataset"
   ]
  },
  {
   "cell_type": "code",
   "execution_count": null,
   "id": "fe9fbf78",
   "metadata": {
    "papermill": {
     "duration": 0.005353,
     "end_time": "2024-07-17T07:18:49.692851",
     "exception": false,
     "start_time": "2024-07-17T07:18:49.687498",
     "status": "completed"
    },
    "tags": []
   },
   "outputs": [],
   "source": []
  }
 ],
 "metadata": {
  "kaggle": {
   "accelerator": "none",
   "dataSources": [
    {
     "databundleVersionId": 1475600,
     "sourceId": 21755,
     "sourceType": "competition"
    }
   ],
   "dockerImageVersionId": 30746,
   "isGpuEnabled": false,
   "isInternetEnabled": true,
   "language": "python",
   "sourceType": "notebook"
  },
  "kernelspec": {
   "display_name": "Python 3",
   "language": "python",
   "name": "python3"
  },
  "language_info": {
   "codemirror_mode": {
    "name": "ipython",
    "version": 3
   },
   "file_extension": ".py",
   "mimetype": "text/x-python",
   "name": "python",
   "nbconvert_exporter": "python",
   "pygments_lexer": "ipython3",
   "version": "3.10.13"
  },
  "papermill": {
   "default_parameters": {},
   "duration": 24.232115,
   "end_time": "2024-07-17T07:18:51.226631",
   "environment_variables": {},
   "exception": null,
   "input_path": "__notebook__.ipynb",
   "output_path": "__notebook__.ipynb",
   "parameters": {},
   "start_time": "2024-07-17T07:18:26.994516",
   "version": "2.5.0"
  }
 },
 "nbformat": 4,
 "nbformat_minor": 5
}
